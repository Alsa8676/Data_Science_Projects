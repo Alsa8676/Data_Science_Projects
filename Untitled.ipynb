{
 "cells": [
  {
   "cell_type": "code",
   "execution_count": 1,
   "id": "6892a922-cdca-4d7f-abc0-721e1dd556e9",
   "metadata": {},
   "outputs": [],
   "source": [
    "import os\n",
    "import json\n",
    "import sqlite3\n",
    "import pandas as pd"
   ]
  },
  {
   "cell_type": "code",
   "execution_count": 2,
   "id": "ff59b5f6-0e83-4e5d-a17d-e25215718c93",
   "metadata": {},
   "outputs": [
    {
     "name": "stdout",
     "output_type": "stream",
     "text": [
      "Number of files with 'employee' in the file name: 2\n"
     ]
    }
   ],
   "source": [
    "# Step 1: Count the files with \"employee\" in their names\n",
    "directory = \"C:/Users/Admin/OneDrive/Desktop/Data Science/Employee\"  # Replace with the actual directory path\n",
    "employee_files = [f for f in os.listdir(directory) if 'employee' in f]\n",
    "print(f\"Number of files with 'employee' in the file name: {len(employee_files)}\")\n"
   ]
  },
  {
   "cell_type": "code",
   "execution_count": 4,
   "id": "def0cfa4-5050-49d6-8c98-92b638340734",
   "metadata": {},
   "outputs": [],
   "source": [
    "# Step 2: Identify the JSON file\n",
    "json_files = [f for f in employee_files if f.endswith('.json')]"
   ]
  },
  {
   "cell_type": "code",
   "execution_count": 5,
   "id": "f456032b-189c-4f4e-bed5-dcca04ce9683",
   "metadata": {},
   "outputs": [],
   "source": [
    "# Check if there's at least one JSON file\n",
    "if not json_files:\n",
    "    raise FileNotFoundError(\"No JSON file found in the directory.\")\n",
    "elif len(json_files) > 1:\n",
    "    raise ValueError(\"Multiple JSON files found. Please ensure there is only one JSON file.\")"
   ]
  },
  {
   "cell_type": "code",
   "execution_count": 6,
   "id": "1531ec40-9827-440f-a31b-3a2850b0a5e3",
   "metadata": {},
   "outputs": [],
   "source": [
    "json_file = json_files[0]\n",
    "json_path = os.path.join(directory, json_file)"
   ]
  },
  {
   "cell_type": "code",
   "execution_count": 7,
   "id": "b2a0857c-8afd-4e79-aa61-1678216de549",
   "metadata": {},
   "outputs": [],
   "source": [
    "# Step 3: Parse the JSON data\n",
    "with open(json_path, 'r') as f:\n",
    "    data = json.load(f)"
   ]
  },
  {
   "cell_type": "code",
   "execution_count": 8,
   "id": "0ad988db-19b3-4103-ae23-244099ae915f",
   "metadata": {},
   "outputs": [
    {
     "ename": "TypeError",
     "evalue": "string indices must be integers, not 'str'",
     "output_type": "error",
     "traceback": [
      "\u001b[1;31m---------------------------------------------------------------------------\u001b[0m",
      "\u001b[1;31mTypeError\u001b[0m                                 Traceback (most recent call last)",
      "Cell \u001b[1;32mIn[8], line 2\u001b[0m\n\u001b[0;32m      1\u001b[0m \u001b[38;5;66;03m# Step 4: Print details of the employee with ID 8\u001b[39;00m\n\u001b[1;32m----> 2\u001b[0m employee_details \u001b[38;5;241m=\u001b[39m \u001b[38;5;28mnext\u001b[39m((emp \u001b[38;5;28;01mfor\u001b[39;00m emp \u001b[38;5;129;01min\u001b[39;00m data \u001b[38;5;28;01mif\u001b[39;00m emp[\u001b[38;5;124m'\u001b[39m\u001b[38;5;124mID\u001b[39m\u001b[38;5;124m'\u001b[39m] \u001b[38;5;241m==\u001b[39m \u001b[38;5;241m8\u001b[39m), \u001b[38;5;28;01mNone\u001b[39;00m)\n\u001b[0;32m      3\u001b[0m \u001b[38;5;28;01mif\u001b[39;00m employee_details:\n\u001b[0;32m      4\u001b[0m     \u001b[38;5;28mprint\u001b[39m(\u001b[38;5;124mf\u001b[39m\u001b[38;5;124m\"\u001b[39m\u001b[38;5;124mDetails of the employee with ID 8: \u001b[39m\u001b[38;5;132;01m{\u001b[39;00memployee_details\u001b[38;5;132;01m}\u001b[39;00m\u001b[38;5;124m\"\u001b[39m)\n",
      "Cell \u001b[1;32mIn[8], line 2\u001b[0m, in \u001b[0;36m<genexpr>\u001b[1;34m(.0)\u001b[0m\n\u001b[0;32m      1\u001b[0m \u001b[38;5;66;03m# Step 4: Print details of the employee with ID 8\u001b[39;00m\n\u001b[1;32m----> 2\u001b[0m employee_details \u001b[38;5;241m=\u001b[39m \u001b[38;5;28mnext\u001b[39m((emp \u001b[38;5;28;01mfor\u001b[39;00m emp \u001b[38;5;129;01min\u001b[39;00m data \u001b[38;5;28;01mif\u001b[39;00m emp[\u001b[38;5;124m'\u001b[39m\u001b[38;5;124mID\u001b[39m\u001b[38;5;124m'\u001b[39m] \u001b[38;5;241m==\u001b[39m \u001b[38;5;241m8\u001b[39m), \u001b[38;5;28;01mNone\u001b[39;00m)\n\u001b[0;32m      3\u001b[0m \u001b[38;5;28;01mif\u001b[39;00m employee_details:\n\u001b[0;32m      4\u001b[0m     \u001b[38;5;28mprint\u001b[39m(\u001b[38;5;124mf\u001b[39m\u001b[38;5;124m\"\u001b[39m\u001b[38;5;124mDetails of the employee with ID 8: \u001b[39m\u001b[38;5;132;01m{\u001b[39;00memployee_details\u001b[38;5;132;01m}\u001b[39;00m\u001b[38;5;124m\"\u001b[39m)\n",
      "\u001b[1;31mTypeError\u001b[0m: string indices must be integers, not 'str'"
     ]
    }
   ],
   "source": [
    "# Step 4: Print details of the employee with ID 8\n",
    "employee_details = next((emp for emp in data if emp['ID'] == 8), None)\n",
    "if employee_details:\n",
    "    print(f\"Details of the employee with ID 8: {employee_details}\")\n",
    "else:\n",
    "    print(\"Employee with ID 8 not found.\")"
   ]
  },
  {
   "cell_type": "code",
   "execution_count": null,
   "id": "aaf0b9d7-cd03-4d1c-9f12-41a8f50d0117",
   "metadata": {},
   "outputs": [],
   "source": []
  }
 ],
 "metadata": {
  "kernelspec": {
   "display_name": "Python 3 (ipykernel)",
   "language": "python",
   "name": "python3"
  },
  "language_info": {
   "codemirror_mode": {
    "name": "ipython",
    "version": 3
   },
   "file_extension": ".py",
   "mimetype": "text/x-python",
   "name": "python",
   "nbconvert_exporter": "python",
   "pygments_lexer": "ipython3",
   "version": "3.11.7"
  }
 },
 "nbformat": 4,
 "nbformat_minor": 5
}
